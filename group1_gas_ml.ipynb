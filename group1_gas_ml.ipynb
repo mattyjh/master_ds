{
 "cells": [
  {
   "cell_type": "markdown",
   "id": "f9bc04b5-faf5-466a-875c-eb8cd3f9613f",
   "metadata": {},
   "source": [
    "# Group 1 Gas"
   ]
  },
  {
   "cell_type": "markdown",
   "id": "88918d88-be48-4946-8efa-ca664e2037f3",
   "metadata": {},
   "source": [
    "### Imports"
   ]
  },
  {
   "cell_type": "code",
   "execution_count": 169,
   "id": "9b97a7a2-015a-48bb-ab54-a9240e47e821",
   "metadata": {},
   "outputs": [],
   "source": [
    "import warnings\n",
    "import sys\n",
    "import os.path\n",
    "import math\n",
    "sys.path.insert(0, os.path.abspath('../../../../functions'))\n",
    "from knmi_weather import knmi_weather as knmi # eda tools\n",
    "from sp_ql import Engine\n",
    "import pandas as pd\n",
    "import numpy as np\n",
    "from matplotlib import pyplot as plt\n",
    "from matplotlib.dates import DateFormatter\n",
    "from math import ceil\n",
    "import datetime as dt\n",
    "import statistics\n",
    "from sklearn.model_selection import train_test_split\n",
    "from sklearn.ensemble import RandomForestRegressor\n",
    "from sklearn.ensemble import GradientBoostingRegressor\n",
    "from sklearn.model_selection import RepeatedKFold\n",
    "from sklearn.model_selection import GridSearchCV, KFold\n",
    "from sklearn.metrics import mean_absolute_error\n",
    "import joblib\n",
    "import seaborn as sns\n",
    "import xgboost\n",
    "from xgboost import XGBRegressor"
   ]
  },
  {
   "cell_type": "markdown",
   "id": "f1771a71-dff6-422a-b7e3-32548c926f1c",
   "metadata": {},
   "source": [
    "### Defs"
   ]
  },
  {
   "cell_type": "code",
   "execution_count": 170,
   "id": "08c4c0b2-6675-463e-869c-366c121d7506",
   "metadata": {},
   "outputs": [],
   "source": [
    "def calc_soc_pos_on_plot(df_compare_monthly, soc):\n",
    "    sm = list(df_compare_monthly.index < soc).index(False) # first False is start month\n",
    "    return sm - 0.5 # place of dashed line on plot in 0-1 x coord range"
   ]
  },
  {
   "cell_type": "markdown",
   "id": "c92c5fc6-4d6a-44f1-88aa-d8742742200e",
   "metadata": {},
   "source": [
    "### Read inputs"
   ]
  },
  {
   "cell_type": "code",
   "execution_count": 177,
   "id": "49af5575-5ef5-4b88-8da6-18bad7fc9d26",
   "metadata": {},
   "outputs": [],
   "source": [
    "project = 'c1'\n",
    "engine=Engine(project=project, isAsync=False)\n",
    "bms_registers = engine.list().filter(unit='CELCIUS').all()\n",
    "build_names = bms_registers['keyname_01'].unique()\n",
    "build_names = build_names[~pd.isna(build_names)]\n",
    "eans=pd.read_csv(f'/Users/Matt/Desktop/MSc/Thesis/Spectral/brighter_eda/inputs/eans/{project.lower()}_eans.csv')\n",
    "\n",
    "#extraction of unique keyname_01 and EAN for gas\n",
    "gas_eans=eans[eans['Contract Type']=='Natural Gas']\n",
    "gas_eans=gas_eans[['keyname_01', 'EAN']].dropna().set_index('keyname_01').squeeze()\n",
    "\n",
    "#adds missing buildings\n",
    "for building in build_names:\n",
    "    if building not in gas_eans.index:\n",
    "        gas_eans[building]=np.nan\n",
    "\n",
    "#Derkinderenstraat\n",
    "del gas_eans['F*****'] \n",
    "del gas_eans['P*****']\n",
    "del gas_eans['R*****']\n",
    "del gas_eans['P*****']\n",
    "del gas_eans['R*****'] # has heat EAN, no gas EANs\n",
    "del gas_eans['R*****'] # has heat EAN, no gas EANs\n",
    "del gas_eans['P*****']\n",
    "del gas_eans['B*****']\n",
    "del gas_eans['P*****']\n",
    "gas_eans = gas_eans.append(pd.Series(index=['P*****'],data=['8*****']))"
   ]
  },
  {
   "cell_type": "code",
   "execution_count": 178,
   "id": "fe32701c-1943-4667-86ac-6833f5477d41",
   "metadata": {},
   "outputs": [],
   "source": [
    "# determine building location\n",
    "cities = eans[['keyname_01', 'City']].dropna()\n",
    "cities = cities.drop_duplicates().set_index('keyname_01').squeeze()\n",
    "cities['P*****']='Amsterdam' #manually adding: *****\n",
    "cities = cities[gas_eans.index]\n",
    "\n",
    "# read and preprocess weather data\n",
    "knmi_station_lookup = pd.read_csv(r'../../../../inputs/knmi/knmi_uurgegevens/city_knmi_station_lookup.csv', index_col=0, squeeze=True)"
   ]
  },
  {
   "cell_type": "code",
   "execution_count": null,
   "id": "108e49cd-ea42-4165-9354-f4f56f2911b6",
   "metadata": {},
   "outputs": [],
   "source": [
    "# read in start of control dates\n",
    "socs = pd.read_csv(r'../../../../inputs/start_of_control/start_of_control_dates.csv')\n",
    "socs = socs[socs['project']==project]\n",
    "socs = socs.set_index('keyname_01')['soc_date'].squeeze()\n",
    "socs = pd.to_datetime(socs)"
   ]
  },
  {
   "cell_type": "code",
   "execution_count": 181,
   "id": "2eec5447-148a-4e6f-9a2f-1f6380c2d499",
   "metadata": {},
   "outputs": [],
   "source": [
    "#removes two buildings from build_names which have both no electricity and gas EAN data\n",
    "build_names=np.delete(build_names, 7, axis=None)"
   ]
  },
  {
   "cell_type": "markdown",
   "id": "97c8c224-6765-4b5c-9d3e-e17091c4d0bf",
   "metadata": {},
   "source": [
    "### Preprocess inputs"
   ]
  },
  {
   "cell_type": "code",
   "execution_count": 183,
   "id": "8d7e8448-3f65-45dd-8bb8-9dcd8f68b3c1",
   "metadata": {},
   "outputs": [
    {
     "data": {
      "text/plain": [
       "array([240, 344, 370, 260, 275])"
      ]
     },
     "execution_count": 183,
     "metadata": {},
     "output_type": "execute_result"
    }
   ],
   "source": [
    "knmi_station_lookup.unique()"
   ]
  },
  {
   "cell_type": "code",
   "execution_count": 184,
   "id": "1f7d14e5-ba96-4c68-b903-9f1431f6ab06",
   "metadata": {},
   "outputs": [],
   "source": [
    "weather = {}\n",
    "for station in knmi_station_lookup.unique():\n",
    "    knmi_weather_file_1 = f'../../../../inputs/knmi/knmi_uurgegevens/uurgeg_{station}_2011-2020.txt'\n",
    "    knmi_weather_file_2 = f'../../../../inputs/knmi/knmi_uurgegevens/uurgeg_{station}_2021-2030.txt'\n",
    "    knmi_weather = pd.read_csv(knmi_weather_file_1,\n",
    "                               skiprows=31,\n",
    "                               skipinitialspace=True,\n",
    "                               usecols=list(range(1, 25)))\n",
    "    knmi_weather = knmi_weather.append(pd.read_csv(knmi_weather_file_2,\n",
    "                                                   skiprows=31,\n",
    "                                                   skipinitialspace=True,\n",
    "                                                   usecols=list(range(1, 25))))\n",
    "    # making proper index for KNMI weather data\n",
    "    knmi_weather.index = knmi.convert_knmi_dates(date=knmi_weather['YYYYMMDD'],\n",
    "                                                 hour=knmi_weather['HH'])\n",
    "    # clean up values\n",
    "    knmi_weather = knmi.cleanup_knmi_units(knmi_weather=knmi_weather)\n",
    "    weather[station] = knmi_weather"
   ]
  },
  {
   "cell_type": "code",
   "execution_count": 185,
   "id": "e0f29c2e-2426-49eb-8df0-f69bc58d6a91",
   "metadata": {},
   "outputs": [],
   "source": [
    "## Determine training and prediction intervals\n",
    "train_periods = pd.DataFrame()\n",
    "train_periods['end'] = socs[gas_eans.index]\n",
    "train_periods['start'] = socs[gas_eans.index] - dt.timedelta(days=365) #more training data=better"
   ]
  },
  {
   "cell_type": "markdown",
   "id": "450b5e14-4847-46bf-a47d-2663c07bae0f",
   "metadata": {},
   "source": [
    "### Get data from sp-ql"
   ]
  },
  {
   "cell_type": "code",
   "execution_count": 188,
   "id": "0353ebfe-e5d0-4ec5-8be2-efd910f30240",
   "metadata": {},
   "outputs": [],
   "source": [
    "## prepare features and training data:\n",
    "# get and save training gas use data locally (no need to do this every time)\n",
    "engine = Engine(project=project, isAsync=False)\n",
    "time_res = 'd'\n",
    "gas_use_train = pd.DataFrame(index=pd.date_range(start=train_periods['start'].min(),\n",
    "                                                 end=train_periods['end'].max(),\n",
    "                                                 freq=time_res))\n",
    "\n",
    "# data from sp-ql\n",
    "for building in gas_eans.index:\n",
    "    # get gas use\n",
    "    start_train = train_periods.loc[building, 'start']\n",
    "    end_train = train_periods.loc[building, 'end']\n",
    "    gas_ean = gas_eans[building]\n",
    "    gas_use = engine.select(gas_ean).group_by(time_res).sum().after(start_train).before(end_train).all()\n",
    "    gas_use = gas_use.rename(columns={gas_use.columns[0]:building})\n",
    "    gas_use_train = gas_use_train.join(gas_use)\n",
    "gas_use_train.to_csv(r'c1_gas/data/gas_use_train.csv')"
   ]
  },
  {
   "cell_type": "code",
   "execution_count": 190,
   "id": "c15128fb-280c-4d32-b15d-c9398b4ff74a",
   "metadata": {},
   "outputs": [],
   "source": [
    "gas_use_train = pd.read_csv(r'c1_gas/data/gas_use_train.csv', index_col=0,\n",
    "                            parse_dates=True)"
   ]
  },
  {
   "cell_type": "code",
   "execution_count": null,
   "id": "8c1ae8dc-5866-455f-b557-5a6c92f4bc49",
   "metadata": {},
   "outputs": [],
   "source": [
    "# some buildings have small gaps in gas data. We can interpolate over these\n",
    "for building in gas_eans.index:\n",
    "    start_train = train_periods.loc[building, 'start']\n",
    "    end_train = train_periods.loc[building, 'end']\n",
    "    gas_use_train_build = gas_use_train.loc[start_train:end_train, building]\n",
    "    # setting first element to 0 if nan. To aid interpolation.\n",
    "    if gas_use_train_build.iloc[[0]].isna()[0]:\n",
    "        gas_use_train_build.iloc[0] = 0\n",
    "    gas_use_train_build = gas_use_train_build.interpolate(limit=10) # filling max 10 consecutive days of missing data\n",
    "    gas_use_train.loc[start_train:end_train, building] = gas_use_train_build\n",
    "gas_use_train"
   ]
  },
  {
   "cell_type": "markdown",
   "id": "497baac4-b88f-400a-ae44-630a0a32ab0f",
   "metadata": {},
   "source": [
    "### RF model"
   ]
  },
  {
   "cell_type": "code",
   "execution_count": null,
   "id": "56be3c58-5150-4732-976e-3fc27487d660",
   "metadata": {},
   "outputs": [],
   "source": [
    "# train and save building energy use RF models\n",
    "for building in gas_eans.index:\n",
    "    print(fr'Training building {building}, {gas_eans.index.get_loc(building) + 1}/{len(gas_eans)}')\n",
    "    city = cities[building]\n",
    "    knmi_station = knmi_station_lookup[city]\n",
    "    knmi_weather = weather[knmi_station]\n",
    "    start_train = train_periods.loc[building, 'start']\n",
    "    end_train = train_periods.loc[building, 'end']\n",
    "    #\n",
    "    features = pd.DataFrame()\n",
    "    features['daily_mean_OAT'] = knmi_weather['T'].resample('d').mean()\n",
    "    features['daily_sum_GHI'] = knmi_weather['Q'].resample('d').sum()\n",
    "    features['dow'] = features.index.dayofweek\n",
    "    #features['month'] = features.index.month\n",
    "    #\n",
    "    gas_use_train_build = gas_use_train[building]\n",
    "    # X: training features, y: training target\n",
    "    X = features[(features.index >= start_train) & (features.index < end_train)]\n",
    "    y = gas_use_train_build[(gas_use_train_build.index >= start_train) &\n",
    "                            (gas_use_train_build.index < end_train)]\n",
    "    #\n",
    "    # checking if there is any nan in the data\n",
    "    if X.isna().sum().sum() + y.isna().sum() > 0:\n",
    "        raise ValueError('NaN in training data:', building)\n",
    "    #\n",
    "    # checking on dependency of taget on features to get a feel\n",
    "    if False:\n",
    "        fig, ax = plt.subplots(len(X.columns), 1)\n",
    "        for i, c in enumerate(X.columns):\n",
    "            ax[i].scatter(x=X[c], y=y)\n",
    "            ax[i].set_title(c)\n",
    "        plt.show(block=False)\n",
    "    #\n",
    "    # make train-test split\n",
    "    X_train, X_test, y_train, y_test = train_test_split(X, y, test_size=0.3)\n",
    "    #\n",
    "    # grid-search for hyper parameter tuning\n",
    "    param_grid = {'max_depth': [2, 5, 10, 20, 50, 100],\n",
    "                  'min_samples_leaf': [1, 5, 10],\n",
    "                  'n_estimators': [500]}\n",
    "    rf = RandomForestRegressor()\n",
    "    grid_search = GridSearchCV(estimator=rf, param_grid=param_grid,\n",
    "                               cv=KFold(10, shuffle=True), n_jobs=-1, verbose=False) # cv --> Kfold 10 with shuffle - because my data is in order (if I would randomize the order then this would not be necessary)\n",
    "    grid_search.fit(X_train, y_train)\n",
    "    #\n",
    "    # save the trained RF\n",
    "    joblib.dump(grid_search.best_estimator_, fr'c1_gas/data/trained_models/rf/trained_{building}.joblib')\n",
    "    joblib.dump(X_test, fr'c1_gas/data/trained_models/rf/X_test_{building}.joblib')\n",
    "    joblib.dump(y_test, fr'c1_gas/data/trained_models/rf/y_test_{building}.joblib')"
   ]
  },
  {
   "cell_type": "markdown",
   "id": "18660e5f-bf48-4b7d-9fb4-ff5ce9df631a",
   "metadata": {},
   "source": [
    "### Gradient Boosting"
   ]
  },
  {
   "cell_type": "code",
   "execution_count": null,
   "id": "03c4b87b-b54b-4488-a9d6-d832cdc44278",
   "metadata": {},
   "outputs": [],
   "source": [
    "for building in gas_eans.index:\n",
    "    print(fr'Training building {building}, {gas_eans.index.get_loc(building) + 1}/{len(gas_eans)}')\n",
    "    city = cities[building]\n",
    "    knmi_station = knmi_station_lookup[city]\n",
    "    knmi_weather = weather[knmi_station]\n",
    "    start_train = train_periods.loc[building, 'start']\n",
    "    end_train = train_periods.loc[building, 'end']\n",
    "    #\n",
    "    features = pd.DataFrame()\n",
    "    features['daily_mean_OAT'] = knmi_weather['T'].resample('d').mean()\n",
    "    features['daily_sum_GHI'] = knmi_weather['Q'].resample('d').sum()\n",
    "    features['dow'] = features.index.dayofweek\n",
    "    #features['month'] = features.index.month\n",
    "    #\n",
    "    gas_use_train_build = gas_use_train[building]\n",
    "    # X: training features, y: training target\n",
    "    X = features[(features.index >= start_train) & (features.index < end_train)]\n",
    "    y = gas_use_train_build[(gas_use_train_build.index >= start_train) &\n",
    "                            (gas_use_train_build.index < end_train)]\n",
    "    #\n",
    "    # checking if there is any nan in the data\n",
    "    if X.isna().sum().sum() + y.isna().sum() > 0:\n",
    "        raise ValueError('NaN in training data:', building)\n",
    "    #\n",
    "    # checking on dependency of taget on features to get a feel\n",
    "    if False:\n",
    "        fig, ax = plt.subplots(len(X.columns), 1)\n",
    "        for i, c in enumerate(X.columns):\n",
    "            ax[i].scatter(x=X[c], y=y)\n",
    "            ax[i].set_title(c)\n",
    "        plt.show(block=False)\n",
    "    #\n",
    "    # make train-test split\n",
    "    X_train, X_test, y_train, y_test = train_test_split(X, y, test_size=0.3)\n",
    "    #\n",
    "    # grid-search for hyper parameter tuning\n",
    "    param_grid = {\n",
    "    \"learning_rate\": [0.01, 0.025, 0.05, 0.075, 0.1, 0.15, 0.2],\n",
    "    \"max_depth\":[3,5,8],\n",
    "    \"max_features\":[\"log2\",\"sqrt\"],\n",
    "    \"subsample\":[0.5, 0.618, 0.8, 0.85, 0.9, 0.95, 1.0],\n",
    "    \"n_estimators\":[10],\n",
    "    }\n",
    "    \n",
    "    rf = GradientBoostingRegressor()\n",
    "    grid_search = GridSearchCV(estimator=rf, param_grid=param_grid,\n",
    "                               cv=KFold(10, shuffle=True), n_jobs=-1, verbose=False)\n",
    "    grid_search.fit(X_train, y_train)\n",
    "    #\n",
    "    # save the trained RF\n",
    "    joblib.dump(grid_search.best_estimator_, fr'c1_gas/data/trained_models/gb/trained_{building}.joblib')\n",
    "    joblib.dump(X_test, fr'c1_gas/data/trained_models/gb/X_test_{building}.joblib')\n",
    "    joblib.dump(y_test, fr'c1_gas/data/trained_models/gb/y_test_{building}.joblib')"
   ]
  },
  {
   "cell_type": "markdown",
   "id": "33449ff0-7e67-4b9c-a5b7-20fb2762b7b8",
   "metadata": {},
   "source": [
    "### XGBoosting"
   ]
  },
  {
   "cell_type": "code",
   "execution_count": null,
   "id": "a2708a5a-2c84-4494-98fe-9268bf787df4",
   "metadata": {},
   "outputs": [],
   "source": [
    "for building in gas_eans.index:\n",
    "    print(fr'Training building {building}, {gas_eans.index.get_loc(building) + 1}/{len(gas_eans)}')\n",
    "    city = cities[building]\n",
    "    knmi_station = knmi_station_lookup[city]\n",
    "    knmi_weather = weather[knmi_station]\n",
    "    start_train = train_periods.loc[building, 'start']\n",
    "    end_train = train_periods.loc[building, 'end']\n",
    "    features = pd.DataFrame()\n",
    "    \n",
    "    features['daily_mean_OAT'] = knmi_weather['T'].resample('d').mean()\n",
    "    features['daily_sum_GHI'] = knmi_weather['Q'].resample('d').sum()\n",
    "    features['dow'] = features.index.dayofweek\n",
    "\n",
    "    gas_use_train_build = gas_use_train[building]\n",
    "    X = features[(features.index >= start_train) & (features.index < end_train)]\n",
    "    y = gas_use_train_build[(gas_use_train_build.index >= start_train) &\n",
    "                            (gas_use_train_build.index < end_train)]\n",
    "    if X.isna().mean().mean() + y.isna().mean() > 0:\n",
    "        raise ValueError('NaN in training data:', building)\n",
    "    if False:\n",
    "        fig, ax = plt.subplots(len(X.columns), 1)\n",
    "        for i, c in enumerate(X.columns):\n",
    "            ax[i].scatter(x=X[c], y=y)\n",
    "            ax[i].set_title(c)\n",
    "        plt.show(block=False)\n",
    "    X_train, X_test, y_train, y_test = train_test_split(X, y, test_size=0.3)\n",
    "    \n",
    "    \n",
    "    param_grid={\n",
    "                \"learning_rate\": (0.05, 0.10, 0.15, 0.2),\n",
    "                \"max_depth\": [3, 4, 5, 6, 8],\n",
    "                \"min_child_weight\": [1, 3, 5, 7]\n",
    "                }\n",
    "\n",
    "    rf = XGBRegressor()\n",
    "    cv = RepeatedKFold(n_splits=10, n_repeats=3, random_state=1)\n",
    "    grid_search = GridSearchCV(estimator=rf, param_grid=param_grid,\n",
    "                               cv=cv, n_jobs=-1, verbose=False)\n",
    "    grid_search.fit(X_train, y_train)\n",
    "\n",
    "    joblib.dump(grid_search.best_estimator_, fr'c1_gas/data/trained_models/xg/trained_{building}.joblib')\n",
    "    joblib.dump(X_test, fr'c1_gas/data/trained_models/xg/X_test_{building}.joblib')\n",
    "    joblib.dump(y_test, fr'c1_gas/data/trained_models/xg/y_test_{building}.joblib')"
   ]
  },
  {
   "cell_type": "markdown",
   "id": "4c0e9dd1-c476-42e7-ba89-c98aee818142",
   "metadata": {},
   "source": [
    "### Metrics"
   ]
  },
  {
   "cell_type": "code",
   "execution_count": 266,
   "id": "f15c3447-86f6-4579-8861-73b1f6e8e25c",
   "metadata": {},
   "outputs": [],
   "source": [
    "# reading in saved trained RF models and calculating mae for the test set\n",
    "mae_range_percent = pd.Series()\n",
    "for building in gas_eans.index:\n",
    "    models = os.listdir('c1_gas/data/trained_models/rf') #change for RF, GB, XG\n",
    "    if fr'trained_{building}.joblib' in models:\n",
    "        grid_search = joblib.load(fr'c1_gas/data/trained_models/rf/trained_{building}.joblib') #change for RF, GB, XG\n",
    "        X_test = joblib.load(fr'c1_gas/data/trained_models/rf/X_test_{building}.joblib') #change for RF, GB, XG\n",
    "        y_test = joblib.load(fr'c1_gas/data/trained_models/rf/y_test_{building}.joblib') #change for RF, GB, XG\n",
    "    #\n",
    "    # grid search already contains the re-trained model with the best parameters\n",
    "    y_test_pred = grid_search.predict(X_test)\n",
    "    #\n",
    "    # calculating MAE and plotting test and pred_test\n",
    "    mae = mean_absolute_error(y_true=y_test, y_pred=y_test_pred)\n",
    "    # mae in percent of range\n",
    "    mae_range_percent[building] = mae / y_test.max() * 100\n",
    "    \n",
    "    gas_use_train_build = gas_use_train[building]"
   ]
  },
  {
   "cell_type": "code",
   "execution_count": 267,
   "id": "60bf6d11-b70f-4b6a-b91f-f1ab4373b098",
   "metadata": {},
   "outputs": [
    {
     "data": {
      "text/plain": [
       "4.623516577538056"
      ]
     },
     "execution_count": 267,
     "metadata": {},
     "output_type": "execute_result"
    }
   ],
   "source": [
    "statistics.mean(mae_range_percent)"
   ]
  },
  {
   "cell_type": "markdown",
   "id": "2a1fc641-1da2-45c6-b6e7-8cd993a32a9e",
   "metadata": {},
   "source": [
    "### Metrics together - MAE"
   ]
  },
  {
   "cell_type": "code",
   "execution_count": 269,
   "id": "f404d88b-fd5d-45fa-8f13-139c352d7301",
   "metadata": {},
   "outputs": [],
   "source": [
    "metric_com_mae = pd.DataFrame(index=gas_eans.index)\n",
    "regressors = ['rf', 'gb', 'xg']\n",
    "for regressor in regressors:\n",
    "    mae_range_percent = pd.Series()\n",
    "    for building in gas_eans.index:\n",
    "        models = os.listdir(f'c1_gas/data/trained_models/{regressor}') #change for RF, GB, XG\n",
    "        if fr'trained_{building}.joblib' in models:\n",
    "            grid_search = joblib.load(fr'c1_gas/data/trained_models/{regressor}/trained_{building}.joblib') #change for RF, GB, XG\n",
    "            X_test = joblib.load(fr'c1_gas/data/trained_models/{regressor}/X_test_{building}.joblib') #change for RF, GB, XG\n",
    "            y_test = joblib.load(fr'c1_gas/data/trained_models/{regressor}/y_test_{building}.joblib') #change for RF, GB, XG\n",
    "        #\n",
    "        # grid search already contains the re-trained model with the best parameters\n",
    "        y_test_pred = grid_search.predict(X_test)\n",
    "\n",
    "        #\n",
    "        # calculating MAE and plotting test and pred_test\n",
    "        mae = mean_absolute_error(y_true=y_test, y_pred=y_test_pred)\n",
    "        # mae in percent of range\n",
    "        mae_range_percent[building] = mae / y_test.max() * 100\n",
    "\n",
    "        gas_use_train_build = gas_eans[building]\n",
    "\n",
    "    metric_com_mae[regressor.upper()]=mae_range_percent"
   ]
  },
  {
   "cell_type": "markdown",
   "id": "52ac9843-b27a-4586-be94-e225a7475998",
   "metadata": {},
   "source": [
    "### Metrics together - RMSE"
   ]
  },
  {
   "cell_type": "code",
   "execution_count": 270,
   "id": "f389ffb0-f2cc-4612-8576-d85cd6a0b00b",
   "metadata": {},
   "outputs": [],
   "source": [
    "metric_com_rmse = pd.DataFrame(index=gas_eans.index)\n",
    "regressors = ['rf', 'gb', 'xg']\n",
    "for regressor in regressors:\n",
    "    rmse_range_percent = pd.Series()\n",
    "    for building in gas_eans.index:\n",
    "        models = os.listdir(f'c1_gas/data/trained_models/{regressor}') #change for RF, GB, XG\n",
    "        if fr'trained_{building}.joblib' in models:\n",
    "            grid_search = joblib.load(fr'c1_gas/data/trained_models/{regressor}/trained_{building}.joblib') #change for RF, GB, XG\n",
    "            X_test = joblib.load(fr'c1_gas/data/trained_models/{regressor}/X_test_{building}.joblib') #change for RF, GB, XG\n",
    "            y_test = joblib.load(fr'c1_gas/data/trained_models/{regressor}/y_test_{building}.joblib') #change for RF, GB, XG\n",
    "        #\n",
    "        # grid search already contains the re-trained model with the best parameters\n",
    "        y_test_pred = grid_search.predict(X_test)\n",
    "        \n",
    "        #calculating RMSE\n",
    "        MSE = np.square(np.subtract(y_test, y_test_pred)).mean() \n",
    "        RMSE = math.sqrt(MSE)\n",
    "        rmse_range_percent[building]=RMSE / y_test.max() * 100\n",
    "\n",
    "    metric_com_rmse[regressor.upper()]=rmse_range_percent"
   ]
  },
  {
   "cell_type": "markdown",
   "id": "84af409a-5977-4a5f-90c5-0d89dbe4ddc0",
   "metadata": {},
   "source": [
    "### Stacked ensembling - MAE"
   ]
  },
  {
   "cell_type": "code",
   "execution_count": null,
   "id": "4eac1e16-890f-438d-b8d8-0334acf4c1dc",
   "metadata": {},
   "outputs": [],
   "source": [
    "en_mae = pd.DataFrame(index=gas_eans.index)\n",
    "regressors = ['rf', 'gb', 'xg']\n",
    "mae_range_percent = pd.Series()\n",
    "master_test=pd.DataFrame()\n",
    "master_test_pred=pd.DataFrame()\n",
    "\n",
    "df1=pd.DataFrame()\n",
    "df2=pd.DataFrame()\n",
    "df3=pd.DataFrame()\n",
    "df_c=pd.DataFrame()\n",
    "\n",
    "df4=pd.DataFrame()\n",
    "df5=pd.DataFrame()\n",
    "df6=pd.DataFrame()\n",
    "df_d=pd.DataFrame()\n",
    "\n",
    "for building in gas_eans.index:\n",
    "    for regressor in regressors:\n",
    "        models = os.listdir(f'c1_gas/data/trained_models/{regressor}') #change for RF, GB, XG\n",
    "        if fr'trained_{building}.joblib' in models:\n",
    "            grid_search = joblib.load(fr'c1_gas/data/trained_models/{regressor}/trained_{building}.joblib') #change for RF, GB, XG\n",
    "            X_test = joblib.load(fr'c1_gas/data/trained_models/{regressor}/X_test_{building}.joblib') #change for RF, GB, XG\n",
    "            y_test = joblib.load(fr'c1_gas/data/trained_models/{regressor}/y_test_{building}.joblib') #change for RF, GB, XG\n",
    "            #print(y_test) ##gives diffent dates, so needs to be investigated --> tried setting random seed during training\n",
    "            y_test_pred = grid_search.predict(X_test)\n",
    "            \n",
    "            if regressor==\"rf\":\n",
    "                df1=y_test.to_frame()\n",
    "                df4=pd.DataFrame(y_test_pred, columns=[building])\n",
    "                df1.reset_index(drop=True, inplace=True)\n",
    "                df4.reset_index(drop=True, inplace=True)\n",
    "            if regressor==\"gb\":\n",
    "                df2=y_test.to_frame()\n",
    "                df5=pd.DataFrame(y_test_pred, columns=[building])\n",
    "                df2.reset_index(drop=True, inplace=True)\n",
    "                df5.reset_index(drop=True, inplace=True)\n",
    "            if regressor==\"xg\":\n",
    "                df3=y_test.to_frame()\n",
    "                df6=pd.DataFrame(y_test_pred, columns=[building])\n",
    "                df3.reset_index(drop=True, inplace=True)\n",
    "                df6.reset_index(drop=True, inplace=True)\n",
    "                \n",
    "    df_c=pd.concat([df1, df2, df3], axis=1)\n",
    "    df_c.columns = [fr'{building}_rf', fr'{building}_gb',fr'{building}_xg']\n",
    "    df_c[building+\"_en\"]=(df_c[building+\"_rf\"]+df_c[building+\"_gb\"]+df_c[building+\"_xg\"])/3\n",
    "    del df_c[building+\"_rf\"]\n",
    "    del df_c[building+\"_gb\"]\n",
    "    del df_c[building+\"_xg\"]\n",
    "    \n",
    "    df_d=pd.concat([df4, df5, df6], axis=1)\n",
    "    df_d.columns = [fr'{building}_rf', fr'{building}_gb',fr'{building}_xg']\n",
    "    df_d[building+\"_en\"]=(df_d[building+\"_rf\"]+df_d[building+\"_gb\"]+df_d[building+\"_xg\"])/3\n",
    "    \n",
    "    del df_d[building+\"_rf\"]\n",
    "    del df_d[building+\"_gb\"]\n",
    "    del df_d[building+\"_xg\"]\n",
    "\n",
    "    mae = mean_absolute_error(y_true=df_c[building+\"_en\"], y_pred=df_d[building+\"_en\"])\n",
    "    \n",
    "    mae_range_percent[building] = mae / df_c[building+\"_en\"].max() * 100\n",
    "\n",
    "    en_mae['EN']=mae_range_percent\n",
    "    \n",
    "print(en_mae)"
   ]
  },
  {
   "cell_type": "code",
   "execution_count": 272,
   "id": "a53c77aa-c2f5-4950-b065-9a0c394b2003",
   "metadata": {},
   "outputs": [
    {
     "data": {
      "text/plain": [
       "EN    4.894718\n",
       "dtype: float64"
      ]
     },
     "execution_count": 272,
     "metadata": {},
     "output_type": "execute_result"
    }
   ],
   "source": [
    "en_mae.mean()"
   ]
  },
  {
   "cell_type": "markdown",
   "id": "45bcd060-84f6-4692-9223-28283897951f",
   "metadata": {},
   "source": [
    "### Ensemble stacked - MAE"
   ]
  },
  {
   "cell_type": "code",
   "execution_count": null,
   "id": "22dfcb78-3c5e-4e22-962f-990f5670a70d",
   "metadata": {},
   "outputs": [],
   "source": [
    "metric_com_mae['EN']=en_mae\n",
    "print(metric_com_mae)\n",
    "print(\"\\n\")\n",
    "print(\"Average MAEs\")\n",
    "round(metric_com_mae.mean(), 5)"
   ]
  },
  {
   "cell_type": "markdown",
   "id": "edb8163a-5fb2-49e1-bc7d-c0f1b2a882e0",
   "metadata": {},
   "source": [
    "### Stacked ensembling - RMSE"
   ]
  },
  {
   "cell_type": "code",
   "execution_count": 274,
   "id": "d65f0ed2-077f-4041-990f-62af8827a28e",
   "metadata": {},
   "outputs": [],
   "source": [
    "en_rmse = pd.DataFrame(index=gas_eans.index)\n",
    "regressors = ['rf', 'gb', 'xg']\n",
    "rmse_range_percent = pd.Series()\n",
    "master_test=pd.DataFrame()\n",
    "master_test_pred=pd.DataFrame()\n",
    "\n",
    "df1=pd.DataFrame()\n",
    "df2=pd.DataFrame()\n",
    "df3=pd.DataFrame()\n",
    "df_c=pd.DataFrame()\n",
    "\n",
    "df4=pd.DataFrame()\n",
    "df5=pd.DataFrame()\n",
    "df6=pd.DataFrame()\n",
    "df_d=pd.DataFrame()\n",
    "\n",
    "for building in gas_eans.index:\n",
    "    for regressor in regressors:\n",
    "        models = os.listdir(f'c1_gas/data/trained_models/{regressor}') #change for RF, GB, XG\n",
    "        if fr'trained_{building}.joblib' in models:\n",
    "            grid_search = joblib.load(fr'c1_gas/data/trained_models/{regressor}/trained_{building}.joblib') #change for RF, GB, XG\n",
    "            X_test = joblib.load(fr'c1_gas/data/trained_models/{regressor}/X_test_{building}.joblib') #change for RF, GB, XG\n",
    "            y_test = joblib.load(fr'c1_gas/data/trained_models/{regressor}/y_test_{building}.joblib') #change for RF, GB, XG\n",
    "            #print(y_test) ##gives diffent dates, so needs to be investigated --> tried setting random seed during training\n",
    "            y_test_pred = grid_search.predict(X_test)\n",
    "            \n",
    "            if regressor==\"rf\":\n",
    "                df1=y_test.to_frame()\n",
    "                df4=pd.DataFrame(y_test_pred, columns=[building])\n",
    "                df1.reset_index(drop=True, inplace=True)\n",
    "                df4.reset_index(drop=True, inplace=True)\n",
    "            if regressor==\"gb\":\n",
    "                df2=y_test.to_frame()\n",
    "                df5=pd.DataFrame(y_test_pred, columns=[building])\n",
    "                df2.reset_index(drop=True, inplace=True)\n",
    "                df5.reset_index(drop=True, inplace=True)\n",
    "            if regressor==\"xg\":\n",
    "                df3=y_test.to_frame()\n",
    "                df6=pd.DataFrame(y_test_pred, columns=[building])\n",
    "                df3.reset_index(drop=True, inplace=True)\n",
    "                df6.reset_index(drop=True, inplace=True)\n",
    "                \n",
    "    df_c=pd.concat([df1, df2, df3], axis=1)\n",
    "    df_c.columns = [fr'{building}_rf', fr'{building}_gb',fr'{building}_xg']\n",
    "    df_c[building+\"_en\"]=(df_c[building+\"_rf\"]+df_c[building+\"_gb\"]+df_c[building+\"_xg\"])/3\n",
    "    del df_c[building+\"_rf\"]\n",
    "    del df_c[building+\"_gb\"]\n",
    "    del df_c[building+\"_xg\"]\n",
    "    \n",
    "    df_d=pd.concat([df4, df5, df6], axis=1)\n",
    "    df_d.columns = [fr'{building}_rf', fr'{building}_gb',fr'{building}_xg']\n",
    "    df_d[building+\"_en\"]=(df_d[building+\"_rf\"]+df_d[building+\"_gb\"]+df_d[building+\"_xg\"])/3\n",
    "    \n",
    "\n",
    "    MSE = np.square(np.subtract(df_c[building+\"_en\"], df_d[building+\"_en\"])).mean() \n",
    "    RMSE = math.sqrt(MSE)\n",
    "    rmse_range_percent[building]=RMSE / df_c[building+\"_en\"].max() * 100\n",
    "    \n",
    "    en_rmse['EN']=rmse_range_percent\n",
    "    "
   ]
  },
  {
   "cell_type": "markdown",
   "id": "9e512afd-264b-4f3c-8b11-61af7b01b8e2",
   "metadata": {},
   "source": [
    "### Ensemble effort - RMSE"
   ]
  },
  {
   "cell_type": "code",
   "execution_count": null,
   "id": "0652f990-be59-47d7-810d-6197eb6049af",
   "metadata": {},
   "outputs": [],
   "source": [
    "metric_com_rmse['EN']=en_rmse\n",
    "print(metric_com_rmse)\n",
    "print(\"\\n\")\n",
    "print(\"Average RMSEs\")\n",
    "round(metric_com_rmse.mean(), 5)"
   ]
  },
  {
   "cell_type": "markdown",
   "id": "5823fdb2-3d6e-4c29-a669-9ec48cbc2ff7",
   "metadata": {},
   "source": [
    "# All models"
   ]
  },
  {
   "cell_type": "markdown",
   "id": "b90f3dc9-a29e-4f94-a066-d04353cff378",
   "metadata": {},
   "source": [
    "### Adding ensemble predictions"
   ]
  },
  {
   "cell_type": "code",
   "execution_count": 276,
   "id": "d26648b1-3c05-4d8e-8b1d-6967154ebb2b",
   "metadata": {},
   "outputs": [],
   "source": [
    "gas_use_pred = pd.DataFrame(index=features.index)\n",
    "for m in ['rf','gb','xg']:\n",
    "    for building in gas_eans.index:\n",
    "        # select weather data for prediction\n",
    "        city = cities[building]\n",
    "        knmi_station = knmi_station_lookup[city]\n",
    "        knmi_weather = weather[knmi_station]\n",
    "        # preapare features for prediction\n",
    "        features = pd.DataFrame()\n",
    "        features['daily_mean_OAT'] = knmi_weather['T'].resample('d').mean()\n",
    "        features['daily_sum_GHI'] = knmi_weather['Q'].resample('d').sum()\n",
    "        features['dow'] = features.index.dayofweek\n",
    "        #features['month'] = features.index.month\n",
    "        X_pred = features\n",
    "        # do the predictions\n",
    "        models = os.listdir(f'c1_gas/data/trained_models/{m}')\n",
    "        if fr'trained_{building}.joblib' in models:\n",
    "            grid_search = joblib.load(fr'c1_gas/data/trained_models/{m}/trained_{building}.joblib')\n",
    "        y_pred = grid_search.predict(X_pred)\n",
    "        gas_use_pred[building+'_'+m] = y_pred"
   ]
  },
  {
   "cell_type": "code",
   "execution_count": 277,
   "id": "7fa3c69b-9c50-4a3b-bf95-4623f9acb751",
   "metadata": {},
   "outputs": [],
   "source": [
    "#ensemble stacking, equal weight\n",
    "gas_use_pred['******_en']=(gas_use_pred['******_rf']+gas_use_pred['******_gb']+gas_use_pred['******_xg'])/3\n",
    "gas_use_pred['******_en']=(gas_use_pred['******_rf']+gas_use_pred['******_gb']+gas_use_pred['******_xg'])/3\n",
    "gas_use_pred['******_en']=(gas_use_pred['******_rf']+gas_use_pred['******_gb']+gas_use_pred['******_xg'])/3\n",
    "gas_use_pred['******_en']=(gas_use_pred['******_rf']+gas_use_pred['******_gb']+gas_use_pred['******_xg'])/3"
   ]
  },
  {
   "cell_type": "code",
   "execution_count": 278,
   "id": "400782dd-4be7-4941-9f52-900ad0687320",
   "metadata": {},
   "outputs": [],
   "source": [
    "# compare predicted and measured gas use after start of control\n",
    "engine = Engine(project=project, isAsync=False)\n",
    "time_res = 'd'\n",
    "gas_use_meas = pd.DataFrame(index=pd.date_range(start=train_periods['start'].min(),\n",
    "                                                 end=knmi_weather.index[-1],\n",
    "                                                 freq=time_res))\n",
    "for building in gas_eans.index:\n",
    "    # get gas use\n",
    "    start = train_periods['start'].min()\n",
    "    end = knmi_weather.index[-1]\n",
    "    gas_ean = gas_eans[building]\n",
    "    gas_use = engine.select(gas_ean).group_by(time_res).sum().after(start).before(end).all()\n",
    "    gas_use = gas_use.rename(columns={gas_use.columns[0]:building})\n",
    "    gas_use_meas = gas_use_meas.join(gas_use)"
   ]
  },
  {
   "cell_type": "code",
   "execution_count": 280,
   "id": "7b3390dc-8b63-4a97-8094-420b45ec96bb",
   "metadata": {},
   "outputs": [],
   "source": [
    "gas_use_meas.rename(columns = {'A*****':'A*****', 'B*****':'B*****',\n",
    "                                     'D*****':'D*****', 'P*****':'P*****'}, inplace = True)"
   ]
  },
  {
   "cell_type": "code",
   "execution_count": 281,
   "id": "3aee971d-8537-4174-9129-69b71aceb110",
   "metadata": {},
   "outputs": [],
   "source": [
    "for m in ['gb','xg']:\n",
    "    for building in gas_eans.index:\n",
    "        gas_use_meas[building+\"_\"+m]=gas_use_meas[building+\"_rf\"]"
   ]
  },
  {
   "cell_type": "code",
   "execution_count": 282,
   "id": "b62766f3-afea-4d2a-9c97-7bb9312ea9b2",
   "metadata": {},
   "outputs": [],
   "source": [
    "month_savings = {}\n",
    "month_savings_m3 = {}\n",
    "total_savings_perc = pd.Series()\n",
    "total_savings_m3 = pd.Series()\n",
    "\n",
    "for m in ['rf','gb','xg']:\n",
    "    for building in gas_use_meas.columns:\n",
    "        size = len(building)\n",
    "        start = train_periods.loc[building[:size-3], 'start']\n",
    "        end = knmi_weather.index[-1]\n",
    "        soc = socs[building[:size-3]]\n",
    "        gas_use_meas_m = gas_use_meas.loc[start:end, building].resample('d').sum()\n",
    "        gas_use_pred_m = gas_use_pred.loc[start:end, building].resample('d').sum()\n",
    "        month_saving = (gas_use_pred_m - gas_use_meas_m) / gas_use_pred_m * 100\n",
    "        month_savings[building] = month_saving\n",
    "        month_savings_m3[building] = gas_use_pred_m - gas_use_meas_m\n",
    "        total_savings_m3[building] = (gas_use_pred.loc[soc:, building] - gas_use_meas.loc[soc:, building]).sum()\n",
    "        total_savings_perc[building] = total_savings_m3[building] / gas_use_pred.loc[soc:, building].sum() * 100\n",
    "\n",
    "train_pred_mae = pd.Series()\n",
    "for m in ['rf','gb','xg']:\n",
    "    for building in gas_use_meas.columns:\n",
    "        size = len(building)\n",
    "        soc = socs[building[:size-3]]\n",
    "        start = train_periods.loc[building[:size-3], 'start']\n",
    "        end = train_periods.loc[building[:size-3], 'end'] #knmi_weather.index[-1]\n",
    "        gas_use_meas_m = gas_use_meas.loc[start:end, building].resample('d').sum()\n",
    "        gas_use_pred_m = gas_use_pred.loc[start:end, building].resample('d').sum()\n",
    "        gas_use_month_mae = mean_absolute_error(y_true=gas_use_meas_m, y_pred=gas_use_pred_m)\n",
    "        train_pred_mae[building] = gas_use_month_mae"
   ]
  },
  {
   "cell_type": "code",
   "execution_count": null,
   "id": "4f9cf919-8eb2-414c-bd02-9c3f042c9017",
   "metadata": {},
   "outputs": [],
   "source": [
    "for building in gas_eans.index:\n",
    "    t=pd.DataFrame()\n",
    "    fig, ax = plt.subplots(figsize=(25, 8))\n",
    "    gas_use_pred[building+\"_rf\"].plot(ax=ax, color='green')\n",
    "    gas_use_pred[building+\"_gb\"].plot(ax=ax, color='blue')\n",
    "    gas_use_pred[building+\"_xg\"].plot(ax=ax, color='red')\n",
    "    t[building+\"_measured\"]=gas_use_meas[building+\"_rf\"]\n",
    "    t.plot(ax=ax, color='gold')\n",
    "    #electr_use_pred_en[building].plot(ax=ax, color='black')\n",
    "    ax.set_xlim(left=gas_use_train[building].dropna().index[0])\n",
    "    ax.set_title(building)\n",
    "    ax.set_ylabel('Electricity use (kWh)')\n",
    "    ax.legend()\n",
    "    ax.axvline(x=socs[building], color='k', ls='--')\n",
    "    plt.show(block=False)"
   ]
  },
  {
   "cell_type": "markdown",
   "id": "abde7d88-f5dd-4648-b799-5cc8501de111",
   "metadata": {},
   "source": [
    "### Comparison of individual models"
   ]
  },
  {
   "cell_type": "code",
   "execution_count": 296,
   "id": "7c0f30ad-0721-4543-a07f-55734c902b88",
   "metadata": {},
   "outputs": [],
   "source": [
    "gas_use_pred = pd.DataFrame(index=features.index)\n",
    "for building in gas_eans.index:\n",
    "    # select weather data for prediction\n",
    "    city = cities[building]\n",
    "    knmi_station = knmi_station_lookup[city]\n",
    "    knmi_weather = weather[knmi_station]\n",
    "    # preapare features for prediction\n",
    "    features = pd.DataFrame()\n",
    "    features['daily_mean_OAT'] = knmi_weather['T'].resample('d').mean()\n",
    "    features['daily_sum_GHI'] = knmi_weather['Q'].resample('d').sum()\n",
    "    features['dow'] = features.index.dayofweek\n",
    "    #features['month'] = features.index.month\n",
    "    X_pred = features\n",
    "    # do the predictions\n",
    "    models = os.listdir('c1_gas/data/trained_models/xg') #change for RF, GB, XG\n",
    "    if fr'trained_{building}.joblib' in models:\n",
    "        grid_search = joblib.load(fr'c1_gas/data/trained_models/xg/trained_{building}.joblib') #change for RF, GB, XG\n",
    "    y_pred = grid_search.predict(X_pred)\n",
    "    gas_use_pred[building] = y_pred"
   ]
  },
  {
   "cell_type": "markdown",
   "id": "3a02f33e-9d77-477e-87dd-6324a731d293",
   "metadata": {},
   "source": [
    "# Checking results and validating savings"
   ]
  },
  {
   "cell_type": "code",
   "execution_count": 297,
   "id": "0b4b6897-8151-4b3c-8876-207b7f6d460a",
   "metadata": {},
   "outputs": [],
   "source": [
    "# compare predicted and measured gas use after start of control\n",
    "engine = Engine(project=project, isAsync=False)\n",
    "time_res = 'd'\n",
    "gas_use_meas = pd.DataFrame(index=pd.date_range(start=train_periods['start'].min(),\n",
    "                                                 end=knmi_weather.index[-1],\n",
    "                                                 freq=time_res))\n",
    "for building in gas_eans.index:\n",
    "    # get gas use\n",
    "    start = train_periods['start'].min()\n",
    "    end = knmi_weather.index[-1]\n",
    "    gas_ean = gas_eans[building]\n",
    "    gas_use = engine.select(gas_ean).group_by(time_res).sum().after(start).before(end).all()\n",
    "    gas_use = gas_use.rename(columns={gas_use.columns[0]:building})\n",
    "    gas_use_meas = gas_use_meas.join(gas_use)"
   ]
  },
  {
   "cell_type": "code",
   "execution_count": null,
   "id": "0d788af5-bbd4-4121-acad-1400a62e5a47",
   "metadata": {},
   "outputs": [],
   "source": [
    "# calculate savings\n",
    "# saving = (pred - meas)/pred\n",
    "# storing in a dict, because each building has different number of months\n",
    "month_savings = {}\n",
    "month_savings_m3 = {}\n",
    "total_savings_perc = pd.Series()\n",
    "total_savings_m3 = pd.Series()\n",
    "for building in gas_eans.index:\n",
    "    #building = 'GPR_EH'\n",
    "    start = train_periods.loc[building, 'start']\n",
    "    end = knmi_weather.index[-1]\n",
    "    soc = socs[building]\n",
    "    # monthly savings (including the training preiod where savings should be ~0)\n",
    "    gas_use_meas_m = gas_use_meas.loc[start:end, building].resample('m').sum()\n",
    "    gas_use_pred_m = gas_use_pred.loc[start:end, building].resample('m').sum()\n",
    "    month_saving = (gas_use_pred_m - gas_use_meas_m) / gas_use_pred_m * 100\n",
    "    month_savings[building] = month_saving\n",
    "    month_savings_m3[building] = gas_use_pred_m - gas_use_meas_m\n",
    "    # total savings after SOC\n",
    "    total_savings_m3[building] = (gas_use_pred.loc[soc:, building] - gas_use_meas.loc[soc:, building]).sum()\n",
    "    total_savings_perc[building] = total_savings_m3[building] / gas_use_pred.loc[soc:, building].sum() * 100\n",
    "\n",
    "# calculate prediction error for error bars\n",
    "train_pred_mae = pd.Series()\n",
    "for building in gas_eans.index:\n",
    "    soc = socs[building]\n",
    "    start = train_periods.loc[building, 'start']\n",
    "    end = train_periods.loc[building, 'end'] #knmi_weather.index[-1]\n",
    "    gas_use_meas_m = gas_use_meas.loc[start:end, building].resample('m').sum()\n",
    "    gas_use_pred_m = gas_use_pred.loc[start:end, building].resample('m').sum()\n",
    "    #soc_pos = calc_soc_pos_on_plot(df_compare_monthly=gas_use_meas_m, soc=soc)\n",
    "    #gas_use_meas_m = gas_use_meas_m.iloc[:int(soc_pos)]\n",
    "    #gas_use_pred_m = gas_use_pred_m.iloc[:int(soc_pos)]\n",
    "    gas_use_month_mae = mean_absolute_error(y_true=gas_use_meas_m, y_pred=gas_use_pred_m)\n",
    "    #train_pred_error = (gas_use_pred_m - gas_use_meas_m) / gas_use_pred_m * 100\n",
    "    train_pred_mae[building] = gas_use_month_mae"
   ]
  },
  {
   "cell_type": "code",
   "execution_count": null,
   "id": "c4ba95b3-1673-44e8-bedd-f4d077e68761",
   "metadata": {},
   "outputs": [],
   "source": [
    "for building in gas_eans.index:\n",
    "    total_savings_m3[building] = (gas_use_pred.loc[soc:, building] - gas_use_meas.loc[soc:, building]).sum()\n",
    "    total_savings_perc[building] = ((gas_use_pred.loc[soc:, building] - gas_use_meas.loc[soc:, building]).sum() / gas_use_pred.loc[soc:, building].sum()) * 100\n",
    "total_savings_perc"
   ]
  },
  {
   "cell_type": "markdown",
   "id": "1076c9ba-6006-4a67-9753-80efaa414f17",
   "metadata": {},
   "source": [
    "### Barplots with savings validation"
   ]
  },
  {
   "cell_type": "code",
   "execution_count": null,
   "id": "76cd0b85-08d2-42dd-a5d7-5c403280555f",
   "metadata": {},
   "outputs": [],
   "source": [
    "for building in gas_eans.index:\n",
    "    start = train_periods.loc[building, 'start']\n",
    "    end = knmi_weather.index[-1]\n",
    "    df_compare = pd.DataFrame(index=pd.date_range(start=start,\n",
    "                                                     end=end,\n",
    "                                                     freq=time_res))\n",
    "    df_compare = df_compare.join(gas_use_meas[[building]])\n",
    "    df_compare = df_compare.rename(columns={building:fr'{building}_meas'})\n",
    "    df_compare = df_compare.join(gas_use_pred[[building]])\n",
    "    df_compare = df_compare.rename(columns={building:fr'{building}_pred'})\n",
    "    #\n",
    "    df_compare = df_compare.resample('m').sum()\n",
    "    soc = socs[building]#.date()\n",
    "    soc_pos = calc_soc_pos_on_plot(df_compare_monthly=df_compare, soc=soc)\n",
    "    train_end_pos = calc_soc_pos_on_plot(df_compare_monthly=df_compare, soc=train_periods.loc[building, 'end'])\n",
    "    #\n",
    "    fig, ax = plt.subplots(figsize=(25, 8))\n",
    "    err = pd.DataFrame(index=df_compare.index, data={fr'{building}_pred':train_pred_mae[building]})\n",
    "    err.iloc[:int(soc_pos) + 1] = np.nan\n",
    "    df_compare.plot.bar(ax=ax, color=['gold', 'darkgray'], yerr=err,\n",
    "                        error_kw=dict(ecolor='darkred', lw=1, capsize=2, capthick=1))\n",
    "    #soc_mark = pd.Series(index=df_compare.index, data=np.nan)\n",
    "    ax.set_xticklabels([x.strftime(\"%Y-%m\") for x in df_compare.index], rotation=45)\n",
    "    plt.vlines(x=train_end_pos, ymin=0, ymax=df_compare.max().max(), color='darkred', ls='--')\n",
    "    plt.vlines(x=soc_pos, ymin=0, ymax=df_compare.max().max(), color='k', ls='--')\n",
    "    # adding saving % text\n",
    "    patches = ax.patches\n",
    "    patches_m = patches[0:int(len(patches)/2)]\n",
    "    patches_p = patches[int(len(patches)/2):]\n",
    "    for i, p in enumerate(patches[0:int(len(patches)/2)]):\n",
    "        if i > soc_pos:\n",
    "            saving = int(month_savings[building].iloc[i].round(0))\n",
    "            saving_m3 = int(month_savings_m3[building].iloc[i].round(0))\n",
    "            width = p.get_width()\n",
    "            height = max(p.get_height(), patches_p[i].get_height())\n",
    "            x, y = p.get_xy()\n",
    "            ax.annotate(f'{saving}%\\n{saving_m3}m3', (x + width/2, y + height*1.01), ha='center')\n",
    "    #\n",
    "    plt.ylabel('Monthly gas use [m3]')\n",
    "    plt.title(building)\n",
    "    plt.show(block=False)"
   ]
  },
  {
   "cell_type": "code",
   "execution_count": 323,
   "id": "ca1d45bd-698d-4b31-a048-c8749dfffc93",
   "metadata": {},
   "outputs": [],
   "source": [
    "# calculate monthly portfolio savings\n",
    "gas_use_pred_sav = gas_use_pred\n",
    "gas_use_meas_sav = gas_use_meas\n",
    "for building in gas_eans.index:\n",
    "    gas_use_pred_sav.loc[gas_use_pred_sav.index[0]:socs[building], building] = np.nan\n",
    "    gas_use_meas_sav.loc[gas_use_meas_sav.index[0]:socs[building], building] = np.nan\n",
    "gas_use_sav = gas_use_pred_sav - gas_use_meas_sav\n",
    "gas_use_sav = gas_use_sav.resample('m').sum()\n",
    "gas_use_sav = gas_use_sav.loc[socs[gas_eans.index].min():]"
   ]
  },
  {
   "cell_type": "code",
   "execution_count": null,
   "id": "dc0771fa-e6cb-4ab4-8a1d-82e95f22bcea",
   "metadata": {},
   "outputs": [],
   "source": [
    "round(gas_use_sav.sum(),2)"
   ]
  },
  {
   "cell_type": "code",
   "execution_count": null,
   "id": "ebd4de7e-614b-4e27-a9e1-749cebed9410",
   "metadata": {},
   "outputs": [],
   "source": [
    "round(gas_use_sav.sum().sum(),2)"
   ]
  },
  {
   "cell_type": "code",
   "execution_count": null,
   "id": "3b03a07e-cf42-40fa-af2f-aed0f2c29853",
   "metadata": {},
   "outputs": [],
   "source": [
    "round(gas_use_sav.sum().sum()*0.87,2)"
   ]
  },
  {
   "cell_type": "code",
   "execution_count": null,
   "id": "eaa49959-1216-46cf-97e8-61ea57d6375e",
   "metadata": {},
   "outputs": [],
   "source": [
    "for building in gas_use_sav.columns:\n",
    "    print(building, \"total savings since SOC (m3):\", round(gas_use_sav[building].sum(),2))"
   ]
  },
  {
   "cell_type": "markdown",
   "id": "e8bdb973-47f3-4209-a804-3a2d0ff4f4e8",
   "metadata": {},
   "source": [
    "### Plot overal savings per building from SOC"
   ]
  },
  {
   "cell_type": "code",
   "execution_count": null,
   "id": "3b290e04-2737-4e85-970c-47622ad147f8",
   "metadata": {},
   "outputs": [],
   "source": [
    "fig, axs = plt.subplots(nrows=1, ncols=2, figsize=(25, 5))\n",
    "for col, ax in zip(sorted(total_savings_plot_df.columns), axs.ravel()):\n",
    "    total_savings_plot_df[col].plot.bar(ax=ax, color=['gold'])\n",
    "    ax.set_xticklabels([x for x in total_savings_plot_df.index], rotation=45)\n",
    "    ax.set_xlabel('Building')\n",
    "    ax.set_ylabel(col)\n",
    "plt.show(block=False)"
   ]
  },
  {
   "cell_type": "markdown",
   "id": "dd3b7ae6-60d4-43f4-8e57-8a063dc38bb4",
   "metadata": {},
   "source": [
    "### Per building gas use plots to spot missing data"
   ]
  },
  {
   "cell_type": "code",
   "execution_count": null,
   "id": "c5e0624e-9391-40a5-8ddd-425d7c8b21bf",
   "metadata": {},
   "outputs": [],
   "source": [
    "for building in gas_eans.index:\n",
    "    fig, ax = plt.subplots(figsize=(25, 8))\n",
    "    gas_use_train[building].plot(ax=ax, color='gray')\n",
    "    gas_use_meas[building].plot(ax=ax, color='gold')\n",
    "    ax.set_xlim(left=gas_use_train[building].dropna().index[0])\n",
    "    ax.set_title(building)\n",
    "    ax.set_ylabel('Gas use (m3)')\n",
    "    ax.axvline(x=socs[building], color='k', ls='--')\n",
    "    plt.show(block=False)"
   ]
  },
  {
   "cell_type": "markdown",
   "id": "311a6458-7f7f-4928-90b1-d45db3739c8e",
   "metadata": {},
   "source": [
    "### Total Portflio Savings"
   ]
  },
  {
   "cell_type": "code",
   "execution_count": null,
   "id": "0d08b37d-9d30-415a-8d3e-8720fd451e66",
   "metadata": {},
   "outputs": [],
   "source": [
    "total_savings_plot_df['m3_cost']=0.87\n",
    "total_savings_plot_df['savings EUR']=total_savings_plot_df['savings m3']*total_savings_plot_df['m3_cost']\n",
    "total_savings_plot_df['savings EUR']"
   ]
  },
  {
   "cell_type": "markdown",
   "id": "1ce7c1e5-9e74-4c2b-b2a4-6ba93b589b78",
   "metadata": {},
   "source": [
    "### Monthly portfolio savings"
   ]
  },
  {
   "cell_type": "code",
   "execution_count": 258,
   "id": "4c4e0007-5d68-4abd-9ded-5c77e6571362",
   "metadata": {},
   "outputs": [],
   "source": [
    "gas_use_pred_sav = gas_use_pred\n",
    "gas_use_meas_sav = gas_use_meas\n",
    "for building in gas_eans.index:\n",
    "    gas_use_pred_sav.loc[gas_use_pred_sav.index[0]:socs[building], building] = np.nan\n",
    "    gas_use_meas_sav.loc[gas_use_meas_sav.index[0]:socs[building], building] = np.nan\n",
    "gas_use_sav = gas_use_pred_sav - gas_use_meas_sav\n",
    "gas_use_sav = gas_use_sav.resample('m').sum()\n",
    "gas_use_sav = gas_use_sav.loc[socs[gas_eans.index].min():]\n",
    "gas_use_sav['m3_cost']=0.87 #assuming cost of m3 is 0.76 cents, could be changed\n",
    "for col in gas_use_sav.columns:\n",
    "    gas_use_sav[col]=round(gas_use_sav['m3_cost']*gas_use_sav[col],2)\n",
    "del gas_use_sav['m3_cost']"
   ]
  },
  {
   "cell_type": "code",
   "execution_count": 4,
   "id": "108fd1f4-28be-40a0-941e-0ad73ed6e8a0",
   "metadata": {},
   "outputs": [],
   "source": [
    "#fig, axs = plt.subplots(nrows=3, ncols=2, figsize=(20, 10))\n",
    "#plt.subplots_adjust(hspace=0.3)\n",
    "#for col, ax in zip(sorted(gas_use_sav.columns), axs.ravel()):\n",
    "#    index=gas_use_sav[col].index.get_loc(gas_use_sav[col].ne(0).idxmax())\n",
    "#    gas_use_sav[[col]].iloc[index:-1].plot(ax=ax, color='gold', linewidth=3) #excludes April for now, too early in the month to draw results\n",
    "#    ax.set_title(col.upper())\n",
    "#    ax.get_legend().remove()\n",
    "#    ax.set_ylabel(\"Saving EUR\")"
   ]
  },
  {
   "cell_type": "markdown",
   "id": "5a268949-f9a3-448b-9ad3-3ad46fb22fbb",
   "metadata": {},
   "source": [
    "# Forecasting"
   ]
  },
  {
   "cell_type": "code",
   "execution_count": null,
   "id": "4498cbe4-dcd8-43c0-9ee1-f68a4bf6f165",
   "metadata": {},
   "outputs": [],
   "source": [
    "#forecast periods are defined, which is - per building - SOC up until 31st of March 2022\n",
    "forecast_periods=pd.DataFrame()\n",
    "forecast_periods['start'] = socs[gas_eans.index]\n",
    "forecast_periods['end'] = pd.Timestamp('2022-03-31')\n",
    "forecast_periods=forecast_periods[~forecast_periods.index.duplicated(keep='first')]\n",
    "forecast_periods"
   ]
  },
  {
   "cell_type": "code",
   "execution_count": 236,
   "id": "e291ac58-5abb-47dc-b1d5-567c89cca0d9",
   "metadata": {},
   "outputs": [],
   "source": [
    "engine = Engine(project=project, isAsync=False)\n",
    "time_res = 'd'\n",
    "gas_use_train = pd.DataFrame(index=pd.date_range(start=forecast_periods['start'].min(),\n",
    "                                                 end=forecast_periods['end'].max(),\n",
    "                                                 freq=time_res))\n",
    "\n",
    "# data from sp-ql\n",
    "for building in gas_eans.index:\n",
    "    # get gas use\n",
    "    start_train = forecast_periods.loc[building, 'start']\n",
    "    end_train = forecast_periods.loc[building, 'end']\n",
    "    gas_ean = gas_eans[building]\n",
    "    gas_use = engine.select(gas_ean).group_by(time_res).sum().after(start_train).before(end_train).all()\n",
    "    gas_use = gas_use.rename(columns={gas_use.columns[0]:building})\n",
    "    gas_use_train = gas_use_train.join(gas_use)\n",
    "gas_use_train.to_csv(r'c1_gas/data/gas_use_train_f.csv')"
   ]
  },
  {
   "cell_type": "code",
   "execution_count": null,
   "id": "566844e0-288e-44f5-830b-1b87f771e47d",
   "metadata": {},
   "outputs": [],
   "source": [
    "gas_use_train = pd.read_csv(r'c1_gas/data/gas_use_train_f.csv', index_col=0,\n",
    "                            parse_dates=True)\n",
    "# some buildings have small gaps in gas data. We can interpolate over these\n",
    "for building in gas_eans.index:\n",
    "    start_train = forecast_periods.loc[building, 'start']\n",
    "    end_train = forecast_periods.loc[building, 'end']\n",
    "    gas_use_train_build = gas_use_train.loc[start_train:end_train, building]\n",
    "    # setting first element to 0 if nan. To aid interpolation.\n",
    "    if gas_use_train_build.iloc[[0]].isna()[0]:\n",
    "        gas_use_train_build.iloc[0] = 0\n",
    "    gas_use_train_build = gas_use_train_build.interpolate(limit=10) # filling max 10 consecutive days of missing data\n",
    "    gas_use_train.loc[start_train:end_train, building] = gas_use_train_build\n",
    "gas_use_train"
   ]
  },
  {
   "cell_type": "markdown",
   "id": "4a75f3b2-4af6-411e-87aa-c39793aa872e",
   "metadata": {},
   "source": [
    "### Random Forest"
   ]
  },
  {
   "cell_type": "code",
   "execution_count": null,
   "id": "5edcc215-7114-4404-87cd-6dd3e68084c2",
   "metadata": {},
   "outputs": [],
   "source": [
    "for building in gas_eans.index:\n",
    "    print(fr'Training building {building}, {gas_eans.index.get_loc(building) + 1}/{len(gas_eans)}')\n",
    "    city = cities[building]\n",
    "    knmi_station = knmi_station_lookup[city]\n",
    "    knmi_weather = weather[knmi_station]\n",
    "    start_train = forecast_periods.loc[building, 'start']\n",
    "    end_train = forecast_periods.loc[building, 'end']\n",
    "\n",
    "    if knmi_station==240:\n",
    "        features = pd.read_csv('features_240.csv', index_col=0, squeeze=True)\n",
    "    if knmi_station==344:\n",
    "        features = pd.read_csv('features_344.csv', index_col=0, squeeze=True)\n",
    "    if knmi_station==370:\n",
    "        features = pd.read_csv('features_370.csv', index_col=0, squeeze=True)\n",
    "    if knmi_station==260:\n",
    "        features = pd.read_csv('features_260.csv', index_col=0, squeeze=True)\n",
    "    if knmi_station==275:\n",
    "        features = pd.read_csv('features_275.csv', index_col=0, squeeze=True)\n",
    "        \n",
    "    features.index = pd.date_range('2011-01-01', periods=4473, freq='1D')\n",
    "    del features['SQ'] #is only used for electricity\n",
    "    features['dow'] = features.index.dayofweek\n",
    "    \n",
    "    gas_use_train_build = gas_use_train[building]\n",
    "    X = features[(features.index >= start_train) & (features.index < end_train)]\n",
    "    y = gas_use_train_build[(gas_use_train_build.index >= start_train) &\n",
    "                            (gas_use_train_build.index < end_train)]\n",
    "    #\n",
    "    # checking if there is any nan in the data\n",
    "    if X.isna().sum().sum() + y.isna().sum() > 0:\n",
    "        raise ValueError('NaN in training data:', building)\n",
    "    #\n",
    "    # checking on dependency of taget on features to get a feel\n",
    "    if False:\n",
    "        fig, ax = plt.subplots(len(X.columns), 1)\n",
    "        for i, c in enumerate(X.columns):\n",
    "            ax[i].scatter(x=X[c], y=y)\n",
    "            ax[i].set_title(c)\n",
    "        plt.show(block=False)\n",
    "    #\n",
    "    # make train-test split\n",
    "    X_train, X_test, y_train, y_test = train_test_split(X, y, test_size=0.3)\n",
    "    #\n",
    "    # grid-search for hyper parameter tuning\n",
    "    param_grid = {'max_depth': [2, 5, 10, 20, 50, 100],\n",
    "                  'min_samples_leaf': [1, 5, 10],\n",
    "                  'n_estimators': [500]}\n",
    "    rf = RandomForestRegressor()\n",
    "    grid_search = GridSearchCV(estimator=rf, param_grid=param_grid,\n",
    "                               cv=KFold(10, shuffle=True), n_jobs=-1, verbose=False) # cv --> Kfold 10 with shuffle - because my data is in order (if I would randomize the order then this would not be necessary)\n",
    "    grid_search.fit(X_train, y_train)\n",
    "    #\n",
    "    # save the trained RF\n",
    "    joblib.dump(grid_search.best_estimator_, fr'c1_gas/data/trained_models/f_rf/trained_{building}.joblib')\n",
    "    joblib.dump(X_test, fr'c1_gas/data/trained_models/f_rf/X_test_{building}.joblib')\n",
    "    joblib.dump(y_test, fr'c1_gas/data/trained_models/f_rf/y_test_{building}.joblib')"
   ]
  },
  {
   "cell_type": "markdown",
   "id": "96796b58-df84-4429-8dc5-83582a6c43d2",
   "metadata": {},
   "source": [
    "### Gradient Boosting"
   ]
  },
  {
   "cell_type": "code",
   "execution_count": null,
   "id": "c5386976-7674-4ab4-9694-7589ae8e97be",
   "metadata": {},
   "outputs": [],
   "source": [
    "for building in gas_eans.index:\n",
    "    print(fr'Training building {building}, {gas_eans.index.get_loc(building) + 1}/{len(gas_eans.index)}')\n",
    "    city = cities[building]\n",
    "    knmi_station = knmi_station_lookup[city]\n",
    "    knmi_weather = weather[knmi_station]\n",
    "    start_train = forecast_periods.loc[building, 'start']\n",
    "    end_train = forecast_periods.loc[building, 'end']\n",
    "\n",
    "    if knmi_station==240:\n",
    "        features = pd.read_csv('features_240.csv', index_col=0, squeeze=True)\n",
    "    if knmi_station==344:\n",
    "        features = pd.read_csv('features_344.csv', index_col=0, squeeze=True)\n",
    "    if knmi_station==370:\n",
    "        features = pd.read_csv('features_370.csv', index_col=0, squeeze=True)\n",
    "    if knmi_station==260:\n",
    "        features = pd.read_csv('features_260.csv', index_col=0, squeeze=True)\n",
    "    if knmi_station==275:\n",
    "        features = pd.read_csv('features_275.csv', index_col=0, squeeze=True)\n",
    "        \n",
    "    features.index = pd.date_range('2011-01-01', periods=4473, freq='1D')\n",
    "    del features['SQ'] #is only used for electricity\n",
    "    features['dow'] = features.index.dayofweek\n",
    "    \n",
    "    gas_use_train_build = gas_use_train[building]\n",
    "    \n",
    "    X = features[(features.index >= start_train) & (features.index < end_train)]\n",
    "    y = gas_use_train_build[(gas_use_train_build.index >= start_train) &\n",
    "                            (gas_use_train_build.index < end_train)]\n",
    "\n",
    "\n",
    "    X_train, X_test, y_train, y_test = train_test_split(X, y, test_size=0.3)\n",
    "\n",
    "    param_grid = {\n",
    "    \"learning_rate\": [0.01, 0.025, 0.05, 0.075, 0.1, 0.15, 0.2],\n",
    "    \"max_depth\":[3,5,8],\n",
    "    \"max_features\":[\"log2\",\"sqrt\"],\n",
    "    \"subsample\":[0.5, 0.618, 0.8, 0.85, 0.9, 0.95, 1.0],\n",
    "    \"n_estimators\":[10],\n",
    "    }\n",
    "\n",
    "    rf = GradientBoostingRegressor()\n",
    "\n",
    "    grid_search = GridSearchCV(estimator=rf, param_grid=param_grid,\n",
    "                        cv=KFold(10, shuffle=True), n_jobs=-1, verbose=False)\n",
    "    grid_search.fit(X_train, y_train)\n",
    "\n",
    "    joblib.dump(grid_search.best_estimator_, fr'c1_gas/data/trained_models/f_gb/trained_{building}.joblib')\n",
    "    joblib.dump(X_test, fr'c1_gas/data/trained_models/f_gb/X_test_{building}.joblib')\n",
    "    joblib.dump(y_test, fr'c1_gas/data/trained_models/f_gb/y_test_{building}.joblib')"
   ]
  },
  {
   "cell_type": "markdown",
   "id": "645869f8-54fe-45b1-8c9d-1a6771db3dee",
   "metadata": {},
   "source": [
    "### XGBoosting"
   ]
  },
  {
   "cell_type": "code",
   "execution_count": null,
   "id": "2eb067b3-d504-4918-952f-6b4c0b5967c7",
   "metadata": {},
   "outputs": [],
   "source": [
    "for building in gas_eans.index:\n",
    "    print(fr'Training building {building}, {gas_eans.index.get_loc(building) + 1}/{len(gas_eans)}')\n",
    "    city = cities[building]\n",
    "    knmi_station = knmi_station_lookup[city]\n",
    "    knmi_weather = weather[knmi_station]\n",
    "    start_train = forecast_periods.loc[building, 'start']\n",
    "    end_train = forecast_periods.loc[building, 'end']\n",
    "\n",
    "    if knmi_station==240:\n",
    "        features = pd.read_csv('features_240.csv', index_col=0, squeeze=True)\n",
    "    if knmi_station==344:\n",
    "        features = pd.read_csv('features_344.csv', index_col=0, squeeze=True)\n",
    "    if knmi_station==370:\n",
    "        features = pd.read_csv('features_370.csv', index_col=0, squeeze=True)\n",
    "    if knmi_station==260:\n",
    "        features = pd.read_csv('features_260.csv', index_col=0, squeeze=True)\n",
    "    if knmi_station==275:\n",
    "        features = pd.read_csv('features_275.csv', index_col=0, squeeze=True)\n",
    "        \n",
    "    features.index = pd.date_range('2011-01-01', periods=4473, freq='1D')\n",
    "    del features['SQ'] #is only used for electricity\n",
    "    features['dow'] = features.index.dayofweek\n",
    "    \n",
    "    gas_use_train_build = gas_use_train[building]\n",
    "    \n",
    "    X = features[(features.index >= start_train) & (features.index < end_train)]\n",
    "    y = gas_use_train_build[(gas_use_train_build.index >= start_train) &\n",
    "                            (gas_use_train_build.index < end_train)]\n",
    "    if X.isna().mean().mean() + y.isna().mean() > 0:\n",
    "        raise ValueError('NaN in training data:', building)\n",
    "    if False:\n",
    "        fig, ax = plt.subplots(len(X.columns), 1)\n",
    "        for i, c in enumerate(X.columns):\n",
    "            ax[i].scatter(x=X[c], y=y)\n",
    "            ax[i].set_title(c)\n",
    "        plt.show(block=False)\n",
    "        \n",
    "    X_train, X_test, y_train, y_test = train_test_split(X, y, test_size=0.3)\n",
    "    \n",
    "    param_grid={\n",
    "                \"learning_rate\": (0.05, 0.10, 0.15, 0.2),\n",
    "                \"max_depth\": [3, 4, 5, 6, 8],\n",
    "                \"min_child_weight\": [1, 3, 5, 7]\n",
    "                }\n",
    "\n",
    "    rf = XGBRegressor()\n",
    "    cv = RepeatedKFold(n_splits=10, n_repeats=3, random_state=1)\n",
    "    grid_search = GridSearchCV(estimator=rf, param_grid=param_grid,\n",
    "                               cv=cv, n_jobs=-1, verbose=False)\n",
    "    grid_search.fit(X_train, y_train)\n",
    "\n",
    "    joblib.dump(grid_search.best_estimator_, fr'c1_gas/data/trained_models/f_xg/trained_{building}.joblib')\n",
    "    joblib.dump(X_test, fr'c1_gas/data/trained_models/f_xg/X_test_{building}.joblib')\n",
    "    joblib.dump(y_test, fr'c1_gas/data/trained_models/f_xg/y_test_{building}.joblib')"
   ]
  },
  {
   "cell_type": "markdown",
   "id": "048bcced-56f7-4055-887d-7ab33a049df9",
   "metadata": {},
   "source": [
    "### Predictions"
   ]
  },
  {
   "cell_type": "code",
   "execution_count": 241,
   "id": "dc079b08-5c38-4a07-9eef-7c4eab4eb2d2",
   "metadata": {},
   "outputs": [],
   "source": [
    "warnings.filterwarnings(\"ignore\")\n",
    "gas_use_pred = pd.DataFrame(index=features.index)\n",
    "\n",
    "for m in ['rf','gb','xg']:\n",
    "    for building in gas_eans.index:\n",
    "        \n",
    "        city = cities[building]\n",
    "        knmi_station = knmi_station_lookup[city]\n",
    "        knmi_weather = weather[knmi_station]\n",
    "        \n",
    "        if knmi_station==240:\n",
    "            features = pd.read_csv('features_240.csv', index_col=0, squeeze=True)\n",
    "        if knmi_station==344:\n",
    "            features = pd.read_csv('features_344.csv', index_col=0, squeeze=True)\n",
    "        if knmi_station==370:\n",
    "            features = pd.read_csv('features_370.csv', index_col=0, squeeze=True)\n",
    "        if knmi_station==260:\n",
    "            features = pd.read_csv('features_260.csv', index_col=0, squeeze=True)\n",
    "        if knmi_station==275:\n",
    "            features = pd.read_csv('features_275.csv', index_col=0, squeeze=True)\n",
    "\n",
    "        features.index = pd.date_range('2011-01-01', periods=4473, freq='1D')\n",
    "        del features['SQ'] #is only used for electricity\n",
    "        features['dow'] = features.index.dayofweek\n",
    "        #features['month'] = features.index.month\n",
    "        X_pred = features\n",
    "        # do the predictions\n",
    "        models = os.listdir(f'c1_gas/data/trained_models/f_{m}')\n",
    "        if fr'trained_{building}.joblib' in models:\n",
    "            grid_search = joblib.load(fr'c1_gas/data/trained_models/f_{m}/trained_{building}.joblib')\n",
    "        y_pred = grid_search.predict(X_pred)\n",
    "        gas_use_pred[building+'_'+m] = y_pred"
   ]
  },
  {
   "cell_type": "code",
   "execution_count": 242,
   "id": "e84649bf-068a-4950-b64b-29b14fd917b7",
   "metadata": {},
   "outputs": [],
   "source": [
    "#ensemble stacking, equal weight\n",
    "gas_use_pred['*****_en']=(gas_use_pred['*****_rf']+gas_use_pred['*****_gb']+gas_use_pred['*****_xg'])/3\n",
    "gas_use_pred['*****_en']=(gas_use_pred['*****_rf']+gas_use_pred['*****_gb']+gas_use_pred['*****_xg'])/3\n",
    "gas_use_pred['*****_en']=(gas_use_pred['*****_rf']+gas_use_pred['*****_gb']+gas_use_pred['*****_xg'])/3\n",
    "gas_use_pred['*****_en']=(gas_use_pred['*****_rf']+gas_use_pred['*****_gb']+gas_use_pred['*****_xg'])/3"
   ]
  },
  {
   "cell_type": "markdown",
   "id": "49e01cc7-4a8b-4d66-96c2-73b895627d98",
   "metadata": {},
   "source": [
    "### Actual"
   ]
  },
  {
   "cell_type": "code",
   "execution_count": 243,
   "id": "ed8a660d-4284-4da8-9727-0c100787d0a9",
   "metadata": {},
   "outputs": [],
   "source": [
    "# compare predicted and measured gas use after start of control\n",
    "engine = Engine(project=project, isAsync=False)\n",
    "time_res = 'd'\n",
    "gas_use_meas = pd.DataFrame(index=pd.date_range(start=forecast_periods['start'].min(),\n",
    "                                                end=knmi_weather.index[-49]+dt.timedelta(30),\n",
    "                                                 freq=time_res))\n",
    "for building in gas_eans.index:\n",
    "    # get gas use\n",
    "    start = train_periods['start'].min()\n",
    "    end = knmi_weather.index[-1]+dt.timedelta(28)\n",
    "    gas_ean = gas_eans[building]\n",
    "    gas_use = engine.select(gas_ean).group_by(time_res).sum().after(start).before(end).all()\n",
    "    gas_use = gas_use.rename(columns={gas_use.columns[0]:building})\n",
    "    gas_use_meas = gas_use_meas.join(gas_use)"
   ]
  },
  {
   "cell_type": "code",
   "execution_count": 244,
   "id": "7f6dcbe2-c738-4136-91cf-ec497f2e847e",
   "metadata": {},
   "outputs": [],
   "source": [
    "def calc_date_pos_on_plot(df_compare_monthly):\n",
    "    soc=pd.Timestamp('2022-04-01 00:00:00')\n",
    "    sm = list(df_compare_monthly.index < soc).index(False) # first False is start month\n",
    "    return sm - 0.5 # place of dashed line on plot in 0-1 x coord range"
   ]
  },
  {
   "cell_type": "code",
   "execution_count": null,
   "id": "2e3bbc30-579d-4ccf-bb6a-97682acaab77",
   "metadata": {},
   "outputs": [],
   "source": [
    "for building in gas_eans.index:\n",
    "    start = forecast_periods.loc[building, 'start']\n",
    "    end = gas_use_pred.index[-1]\n",
    "    df_compare = pd.DataFrame(index=pd.date_range(start=start,\n",
    "                                                     end=end,\n",
    "                                                     freq=time_res))\n",
    "    df_compare = df_compare.join(gas_use_meas[[building]])\n",
    "    df_compare = df_compare.rename(columns={building:fr'{building}_meas'})\n",
    "    df_compare = df_compare.join(gas_use_pred[[building+\"_rf\"]])\n",
    "    df_compare = df_compare.rename(columns={building:fr'{building}_meas'})\n",
    "    #\n",
    "    df_compare = df_compare.resample('m').sum()\n",
    "\n",
    "    soc = socs[building]#.date()\n",
    "    soc_pos = calc_date_pos_on_plot(df_compare_monthly=df_compare)\n",
    "    train_end_pos = calc_date_pos_on_plot(df_compare_monthly=df_compare)\n",
    "    #\n",
    "    fig, ax = plt.subplots(figsize=(25, 8))\n",
    "    df_compare.plot.bar(ax=ax, color=['gold', 'darkgray'])\n",
    "    #soc_mark = pd.Series(index=df_compare.index, data=np.nan)\n",
    "    ax.set_xticklabels([x.strftime(\"%Y-%m\") for x in df_compare.index], rotation=45)\n",
    "    plt.vlines(x=train_end_pos, ymin=0, ymax=df_compare.max().max(), color='darkred', ls='--')\n",
    "    plt.vlines(x=soc_pos, ymin=0, ymax=df_compare.max().max(), color='k', ls='--')\n",
    "    patches = ax.patches\n",
    "    patches_m = patches[0:int(len(patches)/2)]\n",
    "    patches_p = patches[int(len(patches)/2):]\n",
    "\n",
    "    plt.ylabel('Monthly gas use [m3]')\n",
    "    plt.title(building)\n",
    "    plt.show(block=False)"
   ]
  },
  {
   "cell_type": "code",
   "execution_count": 246,
   "id": "25ff2341-18e1-47bc-9267-51cad6033195",
   "metadata": {},
   "outputs": [],
   "source": [
    "metric_com_mae = pd.DataFrame(index=gas_eans.index)\n",
    "regressors = ['rf', 'gb', 'xg']\n",
    "for regressor in regressors:\n",
    "    mae_range_percent = pd.Series()\n",
    "    for building in gas_eans.index:\n",
    "        models = os.listdir(f'c1_gas/data/trained_models/f_{regressor}') #change for RF, GB, XG\n",
    "        if fr'trained_{building}.joblib' in models:\n",
    "            grid_search = joblib.load(fr'c1_gas/data/trained_models/f_{regressor}/trained_{building}.joblib') #change for RF, GB, XG\n",
    "            X_test = joblib.load(fr'c1_gas/data/trained_models/f_{regressor}/X_test_{building}.joblib') #change for RF, GB, XG\n",
    "            y_test = joblib.load(fr'c1_gas/data/trained_models/f_{regressor}/y_test_{building}.joblib') #change for RF, GB, XG\n",
    "        #\n",
    "        # grid search already contains the re-trained model with the best parameters\n",
    "        y_test_pred = grid_search.predict(X_test)\n",
    "\n",
    "        #\n",
    "        # calculating MAE and plotting test and pred_test\n",
    "        mae = mean_absolute_error(y_true=y_test, y_pred=y_test_pred)\n",
    "        # mae in percent of range\n",
    "        mae_range_percent[building] = mae / y_test.max() * 100\n",
    "\n",
    "        gas_use_train_build = gas_eans[building]\n",
    "\n",
    "    metric_com_mae[regressor.upper()]=mae_range_percent"
   ]
  },
  {
   "cell_type": "code",
   "execution_count": 247,
   "id": "f13d27b0-40b1-4b29-ae3c-5b86981477c2",
   "metadata": {},
   "outputs": [],
   "source": [
    "metric_com_rmse = pd.DataFrame(index=gas_eans.index)\n",
    "regressors = ['rf', 'gb', 'xg']\n",
    "for regressor in regressors:\n",
    "    rmse_range_percent = pd.Series()\n",
    "    for building in gas_eans.index:\n",
    "        models = os.listdir(f'c1_gas/data/trained_models/f_{regressor}') #change for RF, GB, XG\n",
    "        if fr'trained_{building}.joblib' in models:\n",
    "            grid_search = joblib.load(fr'c1_gas/data/trained_models/f_{regressor}/trained_{building}.joblib') #change for RF, GB, XG\n",
    "            X_test = joblib.load(fr'c1_gas/data/trained_models/f_{regressor}/X_test_{building}.joblib') #change for RF, GB, XG\n",
    "            y_test = joblib.load(fr'c1_gas/data/trained_models/f_{regressor}/y_test_{building}.joblib') #change for RF, GB, XG\n",
    "        #\n",
    "        # grid search already contains the re-trained model with the best parameters\n",
    "        y_test_pred = grid_search.predict(X_test)\n",
    "        \n",
    "        #calculating RMSE\n",
    "        MSE = np.square(np.subtract(y_test, y_test_pred)).mean() \n",
    "        RMSE = math.sqrt(MSE)\n",
    "        rmse_range_percent[building]=RMSE / y_test.max() * 100\n",
    "\n",
    "    metric_com_rmse[regressor.upper()]=rmse_range_percent"
   ]
  },
  {
   "cell_type": "code",
   "execution_count": 248,
   "id": "b5931ef9-2157-4f10-93ed-3ecbbf4349fa",
   "metadata": {},
   "outputs": [],
   "source": [
    "en_mae = pd.DataFrame(index=gas_eans.index)\n",
    "regressors = ['rf', 'gb', 'xg']\n",
    "mae_range_percent = pd.Series()\n",
    "master_test=pd.DataFrame()\n",
    "master_test_pred=pd.DataFrame()\n",
    "\n",
    "df1=pd.DataFrame()\n",
    "df2=pd.DataFrame()\n",
    "df3=pd.DataFrame()\n",
    "df_c=pd.DataFrame()\n",
    "\n",
    "df4=pd.DataFrame()\n",
    "df5=pd.DataFrame()\n",
    "df6=pd.DataFrame()\n",
    "df_d=pd.DataFrame()\n",
    "\n",
    "for building in gas_eans.index:\n",
    "    for regressor in regressors:\n",
    "        models = os.listdir(f'c1_gas/data/trained_models/f_{regressor}') #change for RF, GB, XG\n",
    "        if fr'trained_{building}.joblib' in models:\n",
    "            grid_search = joblib.load(fr'c1_gas/data/trained_models/f_{regressor}/trained_{building}.joblib') #change for RF, GB, XG\n",
    "            X_test = joblib.load(fr'c1_gas/data/trained_models/f_{regressor}/X_test_{building}.joblib') #change for RF, GB, XG\n",
    "            y_test = joblib.load(fr'c1_gas/data/trained_models/f_{regressor}/y_test_{building}.joblib') #change for RF, GB, XG\n",
    "            #print(y_test) ##gives diffent dates, so needs to be investigated --> tried setting random seed during training\n",
    "            y_test_pred = grid_search.predict(X_test)\n",
    "            \n",
    "            if regressor==\"rf\":\n",
    "                df1=y_test.to_frame()\n",
    "                df4=pd.DataFrame(y_test_pred, columns=[building])\n",
    "                df1.reset_index(drop=True, inplace=True)\n",
    "                df4.reset_index(drop=True, inplace=True)\n",
    "            if regressor==\"gb\":\n",
    "                df2=y_test.to_frame()\n",
    "                df5=pd.DataFrame(y_test_pred, columns=[building])\n",
    "                df2.reset_index(drop=True, inplace=True)\n",
    "                df5.reset_index(drop=True, inplace=True)\n",
    "            if regressor==\"xg\":\n",
    "                df3=y_test.to_frame()\n",
    "                df6=pd.DataFrame(y_test_pred, columns=[building])\n",
    "                df3.reset_index(drop=True, inplace=True)\n",
    "                df6.reset_index(drop=True, inplace=True)\n",
    "                \n",
    "    df_c=pd.concat([df1, df2, df3], axis=1)\n",
    "    df_c.columns = [fr'{building}_rf', fr'{building}_gb',fr'{building}_xg']\n",
    "    df_c[building+\"_en\"]=(df_c[building+\"_rf\"]+df_c[building+\"_gb\"]+df_c[building+\"_xg\"])/3\n",
    "    del df_c[building+\"_rf\"]\n",
    "    del df_c[building+\"_gb\"]\n",
    "    del df_c[building+\"_xg\"]\n",
    "    \n",
    "    df_d=pd.concat([df4, df5, df6], axis=1)\n",
    "    df_d.columns = [fr'{building}_rf', fr'{building}_gb',fr'{building}_xg']\n",
    "    df_d[building+\"_en\"]=(df_d[building+\"_rf\"]+df_d[building+\"_gb\"]+df_d[building+\"_xg\"])/3\n",
    "    \n",
    "    del df_d[building+\"_rf\"]\n",
    "    del df_d[building+\"_gb\"]\n",
    "    del df_d[building+\"_xg\"]\n",
    "\n",
    "    mae = mean_absolute_error(y_true=df_c[building+\"_en\"], y_pred=df_d[building+\"_en\"])\n",
    "    \n",
    "    mae_range_percent[building] = mae / df_c[building+\"_en\"].max() * 100\n",
    "\n",
    "    en_mae['EN']=mae_range_percent\n",
    "    "
   ]
  },
  {
   "cell_type": "markdown",
   "id": "6466694c-dadf-4b10-be55-2e17edb17cd9",
   "metadata": {},
   "source": [
    "### MAEs"
   ]
  },
  {
   "cell_type": "code",
   "execution_count": null,
   "id": "acaa4e01-180f-475c-a535-0b8e5b497e10",
   "metadata": {},
   "outputs": [],
   "source": [
    "metric_com_mae['EN']=en_mae\n",
    "print(metric_com_mae)\n",
    "print(\"\\n\")\n",
    "print(\"Average MAEs\")\n",
    "round(metric_com_mae.mean(), 5)"
   ]
  },
  {
   "cell_type": "code",
   "execution_count": 250,
   "id": "7fd8e373-3e92-4b39-bcd8-7e37abfdf707",
   "metadata": {},
   "outputs": [],
   "source": [
    "en_rmse = pd.DataFrame(index=gas_eans.index)\n",
    "regressors = ['rf', 'gb', 'xg']\n",
    "rmse_range_percent = pd.Series()\n",
    "master_test=pd.DataFrame()\n",
    "master_test_pred=pd.DataFrame()\n",
    "\n",
    "df1=pd.DataFrame()\n",
    "df2=pd.DataFrame()\n",
    "df3=pd.DataFrame()\n",
    "df_c=pd.DataFrame()\n",
    "\n",
    "df4=pd.DataFrame()\n",
    "df5=pd.DataFrame()\n",
    "df6=pd.DataFrame()\n",
    "df_d=pd.DataFrame()\n",
    "\n",
    "for building in gas_eans.index:\n",
    "    for regressor in regressors:\n",
    "        models = os.listdir(f'c1_gas/data/trained_models/f_{regressor}') #change for RF, GB, XG\n",
    "        if fr'trained_{building}.joblib' in models:\n",
    "            grid_search = joblib.load(fr'c1_gas/data/trained_models/f_{regressor}/trained_{building}.joblib') #change for RF, GB, XG\n",
    "            X_test = joblib.load(fr'c1_gas/data/trained_models/f_{regressor}/X_test_{building}.joblib') #change for RF, GB, XG\n",
    "            y_test = joblib.load(fr'c1_gas/data/trained_models/f_{regressor}/y_test_{building}.joblib') #change for RF, GB, XG\n",
    "            #print(y_test) ##gives diffent dates, so needs to be investigated --> tried setting random seed during training\n",
    "            y_test_pred = grid_search.predict(X_test)\n",
    "            \n",
    "            if regressor==\"rf\":\n",
    "                df1=y_test.to_frame()\n",
    "                df4=pd.DataFrame(y_test_pred, columns=[building])\n",
    "                df1.reset_index(drop=True, inplace=True)\n",
    "                df4.reset_index(drop=True, inplace=True)\n",
    "            if regressor==\"gb\":\n",
    "                df2=y_test.to_frame()\n",
    "                df5=pd.DataFrame(y_test_pred, columns=[building])\n",
    "                df2.reset_index(drop=True, inplace=True)\n",
    "                df5.reset_index(drop=True, inplace=True)\n",
    "            if regressor==\"xg\":\n",
    "                df3=y_test.to_frame()\n",
    "                df6=pd.DataFrame(y_test_pred, columns=[building])\n",
    "                df3.reset_index(drop=True, inplace=True)\n",
    "                df6.reset_index(drop=True, inplace=True)\n",
    "                \n",
    "    df_c=pd.concat([df1, df2, df3], axis=1)\n",
    "    df_c.columns = [fr'{building}_rf', fr'{building}_gb',fr'{building}_xg']\n",
    "    df_c[building+\"_en\"]=(df_c[building+\"_rf\"]+df_c[building+\"_gb\"]+df_c[building+\"_xg\"])/3\n",
    "    del df_c[building+\"_rf\"]\n",
    "    del df_c[building+\"_gb\"]\n",
    "    del df_c[building+\"_xg\"]\n",
    "    \n",
    "    df_d=pd.concat([df4, df5, df6], axis=1)\n",
    "    df_d.columns = [fr'{building}_rf', fr'{building}_gb',fr'{building}_xg']\n",
    "    df_d[building+\"_en\"]=(df_d[building+\"_rf\"]+df_d[building+\"_gb\"]+df_d[building+\"_xg\"])/3\n",
    "    \n",
    "\n",
    "    MSE = np.square(np.subtract(df_c[building+\"_en\"], df_d[building+\"_en\"])).mean() \n",
    "    RMSE = math.sqrt(MSE)\n",
    "    rmse_range_percent[building]=RMSE / df_c[building+\"_en\"].max() * 100\n",
    "    \n",
    "    en_rmse['EN']=rmse_range_percent\n",
    "    "
   ]
  },
  {
   "cell_type": "code",
   "execution_count": null,
   "id": "0f06e6cb-b724-4295-846d-410a88c4e2b7",
   "metadata": {},
   "outputs": [],
   "source": [
    "metric_com_rmse['EN']=en_rmse\n",
    "print(metric_com_rmse)\n",
    "print(\"\\n\")\n",
    "print(\"Average RMSEs\")\n",
    "round(metric_com_rmse.mean(), 5)"
   ]
  },
  {
   "cell_type": "markdown",
   "id": "44f55861-cb1d-4d9d-9a48-3910062935cc",
   "metadata": {},
   "source": [
    "### Individual Predictions"
   ]
  },
  {
   "cell_type": "code",
   "execution_count": 334,
   "id": "9d3aab2e-ce59-4c32-81ca-6e304f3de327",
   "metadata": {},
   "outputs": [],
   "source": [
    "gas_use_pred = pd.DataFrame(index=features.index)\n",
    "for building in gas_eans.index:\n",
    "\n",
    "    city = cities[building]\n",
    "    knmi_station = knmi_station_lookup[city]\n",
    "    knmi_weather = weather[knmi_station]\n",
    "\n",
    "    if knmi_station==240:\n",
    "        features = pd.read_csv('features_240.csv', index_col=0, squeeze=True)\n",
    "    if knmi_station==344:\n",
    "        features = pd.read_csv('features_344.csv', index_col=0, squeeze=True)\n",
    "    if knmi_station==370:\n",
    "        features = pd.read_csv('features_370.csv', index_col=0, squeeze=True)\n",
    "    if knmi_station==260:\n",
    "        features = pd.read_csv('features_260.csv', index_col=0, squeeze=True)\n",
    "    if knmi_station==275:\n",
    "        features = pd.read_csv('features_275.csv', index_col=0, squeeze=True)\n",
    "\n",
    "    features.index = pd.date_range('2011-01-01', periods=4473, freq='1D')\n",
    "    del features['SQ'] #is only used for electricity\n",
    "    features['dow'] = features.index.dayofweek\n",
    "    #features['month'] = features.index.month\n",
    "    X_pred = features\n",
    "    # do the predictions\n",
    "    models = os.listdir(f'c1_gas/data/trained_models/f_xg')\n",
    "    if fr'trained_{building}.joblib' in models:\n",
    "        grid_search = joblib.load(fr'c1_gas/data/trained_models/f_xg/trained_{building}.joblib')\n",
    "    y_pred = grid_search.predict(X_pred)\n",
    "    gas_use_pred[building] = y_pred"
   ]
  },
  {
   "cell_type": "code",
   "execution_count": null,
   "id": "1dc6bfd9-f289-45cb-81e9-46db2d0655cc",
   "metadata": {},
   "outputs": [],
   "source": [
    "gas_use_pred=gas_use_pred.loc['2022-04-01':,]\n",
    "gas_use_pred=gas_use_pred.resample('m').sum()\n",
    "gas_use_pred.mean()*0.87"
   ]
  },
  {
   "cell_type": "code",
   "execution_count": null,
   "id": "bdc2b55a-be63-451d-8dbf-0611b155e419",
   "metadata": {},
   "outputs": [],
   "source": []
  }
 ],
 "metadata": {
  "kernelspec": {
   "display_name": "Python 3 (ipykernel)",
   "language": "python",
   "name": "python3"
  },
  "language_info": {
   "codemirror_mode": {
    "name": "ipython",
    "version": 3
   },
   "file_extension": ".py",
   "mimetype": "text/x-python",
   "name": "python",
   "nbconvert_exporter": "python",
   "pygments_lexer": "ipython3",
   "version": "3.9.13"
  }
 },
 "nbformat": 4,
 "nbformat_minor": 5
}
